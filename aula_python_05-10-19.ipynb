{
 "cells": [
  {
   "cell_type": "markdown",
   "metadata": {},
   "source": [
    "# Aula de Python - 05/10/2019"
   ]
  },
  {
   "cell_type": "markdown",
   "metadata": {},
   "source": [
    "#### Executando cálculo de média"
   ]
  },
  {
   "cell_type": "code",
   "execution_count": 18,
   "metadata": {},
   "outputs": [],
   "source": [
    "#Atribuindo notas às variáveis\n",
    "nota1 = 8.0\n",
    "nota2 = 7.5\n",
    "nota3 = 10\n",
    "\n",
    "#Executando cálaculo de média\n",
    "media = (nota1+nota2+nota3)/3"
   ]
  },
  {
   "cell_type": "code",
   "execution_count": 28,
   "metadata": {},
   "outputs": [
    {
     "name": "stdout",
     "output_type": "stream",
     "text": [
      "O aluno está: Aprovado, com média: 8.5\n"
     ]
    }
   ],
   "source": [
    "\"\"\"\n",
    "Nesse trecho de código será\n",
    "Implementado um tratamento\n",
    "Para informar se o aluno \n",
    "Foi: Aprovado(>=6.95) , Reprovado(<5) ou Recuperação (>=5 e <6.95)\n",
    "\"\"\"\n",
    "\n",
    "if media>=6.95:\n",
    "    sit = \"Aprovado, com média: \" + str(media)\n",
    "    #str() -> converte valores para texto\n",
    "elif media>=5 and media<6.95:\n",
    "    sit = \"Recuperação, com média: \" + str(media)\n",
    "else:\n",
    "    sit = \"Reprovado, com média: \" + str(media)\n",
    "\n",
    "print(\"O aluno está:\",sit)"
   ]
  },
  {
   "cell_type": "code",
   "execution_count": 34,
   "metadata": {},
   "outputs": [
    {
     "name": "stdout",
     "output_type": "stream",
     "text": [
      "Digite seu ano de nascimento: 1990\n",
      "Digite o ano atual: 2019\n",
      "Sua idade é:  29\n"
     ]
    }
   ],
   "source": [
    "anoNascimento = input(\"Digite seu ano de nascimento: \")\n",
    "anoAtual = input(\"Digite o ano atual: \")\n",
    "print (\"Sua idade é: \", int(anoAtual) - int(anoNascimento))"
   ]
  },
  {
   "cell_type": "code",
   "execution_count": 40,
   "metadata": {},
   "outputs": [
    {
     "name": "stdout",
     "output_type": "stream",
     "text": [
      "[1, 2, 3, 4]\n",
      "[1, 2, 3, 4]\n",
      "[1, 2, 3, 4, 5]\n",
      "[1, 2, 3, 4, 5]\n"
     ]
    },
    {
     "data": {
      "text/plain": [
       "'\\nAtençãO!\\nTodas as vezes que declarar uma variável A \\nE realizar uma atribuição em outra variável, B\\nAmbas estarão referenciado a uma mesma posição de memória.\\nIsso significa uma variável, também altera a outra\\n\\nPortanto, devo se preocupar em relação a manter os dados\\n\\n'"
      ]
     },
     "execution_count": 40,
     "metadata": {},
     "output_type": "execute_result"
    }
   ],
   "source": [
    "listaA=[1,2,3,4]\n",
    "listaB=listaA\n",
    "print(listaA)\n",
    "print(listaB)\n",
    "listaB.append(5)\n",
    "print(listaA)\n",
    "print(listaB)\n",
    "\n",
    "\"\"\"\n",
    "AtençãO!\n",
    "Todas as vezes que declarar uma variável A \n",
    "E realizar uma atribuição em outra variável, B\n",
    "Ambas estarão referenciado a uma mesma posição de memória.\n",
    "Isso significa uma variável, também altera a outra\n",
    "\n",
    "Portanto, devo se preocupar em relação a manter os dados\n",
    "\n",
    "\"\"\""
   ]
  },
  {
   "cell_type": "code",
   "execution_count": 41,
   "metadata": {},
   "outputs": [
    {
     "name": "stdout",
     "output_type": "stream",
     "text": [
      "[1, 2, 3, 4]\n",
      "[1, 2, 3, 4]\n",
      "[1, 2, 3, 4]\n",
      "[1, 2, 3, 4, 5]\n"
     ]
    }
   ],
   "source": [
    "#Criando uma lista\n",
    "listaA=[1,2,3,4]\n",
    "\n",
    "#Copiando a lista A para lista B\n",
    "#Utilizar o método .copy() para não alterar o valor da listaA\n",
    "listaB=listaA.copy()\n",
    "print(listaA)\n",
    "print(listaB)\n",
    "\n",
    "#Incluindo novo elemento na listaB\n",
    "listaB.append(5)\n",
    "print(listaA)\n",
    "print(listaB)"
   ]
  },
  {
   "cell_type": "code",
   "execution_count": 46,
   "metadata": {},
   "outputs": [
    {
     "name": "stdout",
     "output_type": "stream",
     "text": [
      "0  -  1\n",
      "1  -  2\n",
      "2  -  3\n",
      "3  -  4\n",
      "4  -  5\n"
     ]
    }
   ],
   "source": [
    "#Estrutura de Repetição\n",
    "for i in range(5):\n",
    "    print(i,\" - \",listaB[i])"
   ]
  },
  {
   "cell_type": "code",
   "execution_count": 55,
   "metadata": {},
   "outputs": [
    {
     "name": "stdout",
     "output_type": "stream",
     "text": [
      "CPF:  dict_keys(['12222452509', '78935456202', '89778965800', '22554663509', '45678913206'])\n",
      "Nome:  dict_values(['Antonio', 'Joana', 'Vitor', 'Alan', 'Gustavo'])\n",
      "CPF:  78935456202 Nome:  Joana\n",
      "CPF:  89778965800 Nome:  Vitor\n"
     ]
    }
   ],
   "source": [
    "dicionario1 = {\"12222452509\":\"Antonio\",\"78935456202\":\"Joana\",\"89778965800\":\"Vitor\",\"22554663509\":\"Alan\",\"45678913206\":\"Gustavo\"}\n",
    "dicionario1\n",
    "print(\"CPF: \", dicionario1.keys())\n",
    "print(\"Nome: \", dicionario1.values())\n",
    "\n",
    "#Realizando buscas pelo nome\n",
    "for i in dicionario1:\n",
    "    if dicionario1[i] == \"Joana\":\n",
    "        print(\"CPF: \",i,\"Nome: \", dicionario1[i])\n",
    "        \n",
    "\n",
    "#Realizando buscas pelo CPF        \n",
    "for i in dicionario1:\n",
    "    if i == \"89778965800\":\n",
    "        print(\"CPF: \",i, \"Nome: \",dicionario1[i])"
   ]
  },
  {
   "cell_type": "code",
   "execution_count": 56,
   "metadata": {},
   "outputs": [
    {
     "name": "stdout",
     "output_type": "stream",
     "text": [
      "{}\n",
      "{72: True}\n",
      "{72: True, 23: None}\n",
      "{72: True, 23: None, 100: {'(27) 99999-9999': 'Joao'}}\n"
     ]
    }
   ],
   "source": [
    "funcionarios = {}\n",
    "print(funcionarios)\n",
    "\n",
    "funcionarios[72] = True\n",
    "print(funcionarios)\n",
    "\n",
    "funcionarios[23] = None\n",
    "print(funcionarios)\n",
    "\n",
    "funcionarios[100] = {\"(27) 99999-9999\":\"Joao\"}\n",
    "print(funcionarios)\n",
    "\n",
    "\n"
   ]
  },
  {
   "cell_type": "code",
   "execution_count": null,
   "metadata": {},
   "outputs": [],
   "source": []
  }
 ],
 "metadata": {
  "kernelspec": {
   "display_name": "Python 3",
   "language": "python",
   "name": "python3"
  },
  "language_info": {
   "codemirror_mode": {
    "name": "ipython",
    "version": 3
   },
   "file_extension": ".py",
   "mimetype": "text/x-python",
   "name": "python",
   "nbconvert_exporter": "python",
   "pygments_lexer": "ipython3",
   "version": "3.6.9"
  }
 },
 "nbformat": 4,
 "nbformat_minor": 2
}
