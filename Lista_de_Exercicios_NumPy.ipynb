{
 "cells": [
  {
   "cell_type": "markdown",
   "metadata": {},
   "source": [
    "# Lista de Exercícios: NumPy\n",
    "\n",
    "## Alguns dos exercícios podem requerer pesquisa adicional na documentação dos pacotes. Pesquise!\n",
    "\n",
    "### Exercício 1 "
   ]
  },
  {
   "cell_type": "code",
   "execution_count": 2,
   "metadata": {},
   "outputs": [],
   "source": [
    "#Importe a biblioteca NumPy para seu Notebook\n",
    "import numpy as np"
   ]
  },
  {
   "cell_type": "markdown",
   "metadata": {},
   "source": [
    "### Exercício 2"
   ]
  },
  {
   "cell_type": "code",
   "execution_count": 8,
   "metadata": {},
   "outputs": [],
   "source": [
    "#Compare a velocidade, da operação a seguir, entre uma lista de Python Puro e um ndarray do NumPy com 1 bilhão de elementos\n",
    "my_arr=np.arange(10000000)\n",
    "my_list=list(range(10000000))\n",
    "\n"
   ]
  },
  {
   "cell_type": "code",
   "execution_count": 9,
   "metadata": {},
   "outputs": [
    {
     "name": "stdout",
     "output_type": "stream",
     "text": [
      "Wall time: 369 ms\n"
     ]
    }
   ],
   "source": [
    "#Eleve a potência quadrática cada elemento do ndarray e da lista e exiba o tempo de execução de cada um dos objetos\n",
    "\n",
    "%time for _ in range(10): my_arr2=my_arr*2"
   ]
  },
  {
   "cell_type": "code",
   "execution_count": 10,
   "metadata": {},
   "outputs": [
    {
     "name": "stdout",
     "output_type": "stream",
     "text": [
      "Wall time: 13.2 s\n"
     ]
    }
   ],
   "source": [
    "%time for _ in range(10): my_list2=[x*2 for x in my_list]"
   ]
  },
  {
   "cell_type": "markdown",
   "metadata": {},
   "source": [
    "### Exercício 3"
   ]
  },
  {
   "cell_type": "code",
   "execution_count": 81,
   "metadata": {},
   "outputs": [
    {
     "name": "stdout",
     "output_type": "stream",
     "text": [
      "[[ 0.29872197 -0.0476794  -1.42665675]\n",
      " [ 0.26419274  1.27780249  0.89225142]\n",
      " [-0.08160859  0.37124315 -0.59398409]\n",
      " [-0.3169619  -0.4769215   0.66871708]\n",
      " [ 0.52663727 -0.0462788  -0.16255901]]\n"
     ]
    }
   ],
   "source": [
    "#Crie uma matriz de cinco linhas e três colunas\n",
    "data=np.random.randn(5,3)\n",
    "\n",
    "print(data)"
   ]
  },
  {
   "cell_type": "code",
   "execution_count": 82,
   "metadata": {},
   "outputs": [
    {
     "name": "stdout",
     "output_type": "stream",
     "text": [
      "[[0.54655463        nan        nan]\n",
      " [0.51399683 1.13039926 0.94459061]\n",
      " [       nan 0.60929726        nan]\n",
      " [       nan        nan 0.81775123]\n",
      " [0.72569778        nan        nan]]\n"
     ]
    },
    {
     "name": "stderr",
     "output_type": "stream",
     "text": [
      "C:\\Users\\aluno.laboratorio\\AppData\\Local\\Continuum\\anaconda3\\lib\\site-packages\\ipykernel_launcher.py:3: RuntimeWarning: invalid value encountered in sqrt\n",
      "  This is separate from the ipykernel package so we can avoid doing imports until\n"
     ]
    }
   ],
   "source": [
    "#Calcule a Raiz Quadrada dos elementos da matriz de uma única vez\n",
    "\n",
    "print(np.sqrt(data))"
   ]
  },
  {
   "cell_type": "markdown",
   "metadata": {},
   "source": [
    "### Exercício 4"
   ]
  },
  {
   "cell_type": "code",
   "execution_count": 83,
   "metadata": {},
   "outputs": [
    {
     "name": "stdout",
     "output_type": "stream",
     "text": [
      "matriz1 \n",
      "Formato (8, 5) Tipo float64 Nº de Dimensões 2\n",
      "matriz2 \n",
      "Formato (2, 4) Tipo float64 Nº de Dimensões 2\n",
      "matriz3 \n",
      "Formato (2, 4) Tipo |S3 Nº de Dimensões 2\n"
     ]
    }
   ],
   "source": [
    "#Crie as matrizes a seguir e verifique suas propriedades (formato, tipo e número de dimensões)\n",
    "import numpy as np\n",
    "matriz1 = np.random.rand(8, 5)\n",
    "print(\"matriz1 \\nFormato \" + str(matriz1.shape), \"Tipo \" + str(matriz1.dtype), \"Nº de Dimensões \" + str(matriz1.ndim))\n",
    "\n",
    "matriz2 = np.array([[7., 8, 9, 10.98], [65, 42, 3, 18]])\n",
    "print(\"matriz2 \\nFormato \" + str(matriz2.shape), \"Tipo \" + str(matriz2.dtype), \"Nº de Dimensões \" + str(matriz2.ndim))\n",
    "\n",
    "matriz3 = np.array([[1, \"2\", \"4.5\", 7], [4, \"18\", 14, \"3\"]], dtype=np.string_)\n",
    "print(\"matriz3 \\nFormato \" + str(matriz3.shape), \"Tipo \" + str(matriz3.dtype), \"Nº de Dimensões \" + str(matriz3.ndim))"
   ]
  },
  {
   "cell_type": "markdown",
   "metadata": {},
   "source": [
    "### Exercício 5"
   ]
  },
  {
   "cell_type": "code",
   "execution_count": 86,
   "metadata": {},
   "outputs": [
    {
     "name": "stdout",
     "output_type": "stream",
     "text": [
      "[[-0.17267144  0.70654591  1.03126481  0.47410006]\n",
      " [-0.59516748 -0.70849251  1.21228318 -0.6437319 ]\n",
      " [ 0.42243981  1.70733952 -0.6039401   0.93047402]]\n",
      "[[0 0 1 0]\n",
      " [0 0 1 0]\n",
      " [0 1 0 0]]\n",
      "[[b'-0.1726714390816246' b'0.7065459130534023' b'1.0312648111520484'\n",
      "  b'0.47410005842890474']\n",
      " [b'-0.5951674849530589' b'-0.7084925136820778' b'1.2122831828044978'\n",
      "  b'-0.6437319028693266']\n",
      " [b'0.4224398076133064' b'1.7073395198332724' b'-0.6039400967051574'\n",
      "  b'0.9304740211055141']]\n"
     ]
    }
   ],
   "source": [
    "#Crie uma ndarray de 3x4 do tipo float e converta para:\n",
    "#(1) int\n",
    "#(2) string\n",
    "float_arr = np.random.randn(12).reshape(3, 4,)\n",
    "print(float_arr)\n",
    "int_arr = float_arr.astype(np.int32)\n",
    "print(int_arr)\n",
    "str_arr = float_arr.astype(np.string_)\n",
    "print(str_arr)"
   ]
  },
  {
   "cell_type": "markdown",
   "metadata": {},
   "source": [
    "### Exercício 6"
   ]
  },
  {
   "cell_type": "code",
   "execution_count": 88,
   "metadata": {},
   "outputs": [],
   "source": [
    "#Crie um ndarray com 100 números aleatórios\n",
    "data2 = np.random.randn(100)"
   ]
  },
  {
   "cell_type": "code",
   "execution_count": 89,
   "metadata": {},
   "outputs": [
    {
     "data": {
      "text/plain": [
       "array([-1.1338497 ,  0.07248928,  1.05942495, -0.0818828 , -0.05151791,\n",
       "       -0.47354894,  0.81651964, -0.87271241,  1.27003105,  1.47674352,\n",
       "        0.70203612,  1.13983137, -0.41972492,  1.8111986 ,  0.20579697,\n",
       "       -0.91180738,  1.52900319, -0.10857089, -1.0355823 ,  0.05418635,\n",
       "        0.55674358,  2.15211502,  0.66259247, -1.88697146, -0.08483254,\n",
       "       -0.61673567, -0.04411036,  0.83751499,  0.24801053, -0.43258345,\n",
       "        1.31590763,  0.04333612, -1.22614277,  0.18680703,  0.36067268,\n",
       "       -0.94999634,  1.03675775, -0.95748497,  0.03853381,  0.98995242,\n",
       "       -0.49206998, -0.14899198, -2.1405236 ,  0.86360274,  0.25421554,\n",
       "        1.16627032, -0.90241332, -0.1742851 , -0.66230861, -0.33608103,\n",
       "        0.0456636 , -2.30821086,  0.28912406,  2.05849755, -0.15180502,\n",
       "        0.7512387 ,  0.23642154, -0.77720542, -1.46646017,  0.25022734,\n",
       "        0.87050548,  0.90382002,  0.56491435,  2.33632319,  1.37379492,\n",
       "        0.63577836, -0.08705916,  1.1100376 , -0.06593932, -1.39949031,\n",
       "       -1.24948654,  0.4059293 ,  0.70026791, -0.25190908,  0.49047601,\n",
       "       -0.15650124,  0.4470538 , -0.20917549, -0.06444816, -0.03859628,\n",
       "       -0.25031631, -0.49764955, -0.61649893,  0.88995312,  0.16332014,\n",
       "        0.5085558 ,  1.30950704,  0.07718415, -0.44035867, -0.02938689,\n",
       "       -0.96161197,  0.77957549,  0.89361276, -1.21467697,  1.24799109,\n",
       "       -1.52773769,  0.26177982,  0.13932652,  0.22267348,  0.02195794])"
      ]
     },
     "execution_count": 89,
     "metadata": {},
     "output_type": "execute_result"
    }
   ],
   "source": [
    "data2"
   ]
  },
  {
   "cell_type": "code",
   "execution_count": 90,
   "metadata": {},
   "outputs": [
    {
     "data": {
      "text/plain": [
       "0.04333612247496501"
      ]
     },
     "execution_count": 90,
     "metadata": {},
     "output_type": "execute_result"
    }
   ],
   "source": [
    "#Acesse o 32º elemento\n",
    "data2[31]"
   ]
  },
  {
   "cell_type": "code",
   "execution_count": 93,
   "metadata": {},
   "outputs": [],
   "source": [
    "#Altere os índices de 18 a 32 para 128\n",
    "data2[18:33]=128"
   ]
  },
  {
   "cell_type": "code",
   "execution_count": 92,
   "metadata": {},
   "outputs": [
    {
     "data": {
      "text/plain": [
       "array([-1.13384970e+00,  7.24892750e-02,  1.05942495e+00, -8.18828036e-02,\n",
       "       -5.15179147e-02, -4.73548938e-01,  8.16519637e-01, -8.72712409e-01,\n",
       "        1.27003105e+00,  1.47674352e+00,  7.02036123e-01,  1.13983137e+00,\n",
       "       -4.19724924e-01,  1.81119860e+00,  2.05796973e-01, -9.11807376e-01,\n",
       "        1.52900319e+00, -1.08570887e-01,  1.28000000e+02,  1.28000000e+02,\n",
       "        1.28000000e+02,  1.28000000e+02,  1.28000000e+02,  1.28000000e+02,\n",
       "        1.28000000e+02,  1.28000000e+02,  1.28000000e+02,  1.28000000e+02,\n",
       "        1.28000000e+02,  1.28000000e+02,  1.28000000e+02,  1.28000000e+02,\n",
       "       -1.22614277e+00,  1.86807032e-01,  3.60672680e-01, -9.49996341e-01,\n",
       "        1.03675775e+00, -9.57484967e-01,  3.85338056e-02,  9.89952423e-01,\n",
       "       -4.92069979e-01, -1.48991978e-01, -2.14052360e+00,  8.63602737e-01,\n",
       "        2.54215537e-01,  1.16627032e+00, -9.02413321e-01, -1.74285104e-01,\n",
       "       -6.62308611e-01, -3.36081033e-01,  4.56635971e-02, -2.30821086e+00,\n",
       "        2.89124060e-01,  2.05849755e+00, -1.51805020e-01,  7.51238695e-01,\n",
       "        2.36421539e-01, -7.77205415e-01, -1.46646017e+00,  2.50227336e-01,\n",
       "        8.70505485e-01,  9.03820025e-01,  5.64914345e-01,  2.33632319e+00,\n",
       "        1.37379492e+00,  6.35778356e-01, -8.70591557e-02,  1.11003760e+00,\n",
       "       -6.59393176e-02, -1.39949031e+00, -1.24948654e+00,  4.05929303e-01,\n",
       "        7.00267911e-01, -2.51909076e-01,  4.90476013e-01, -1.56501240e-01,\n",
       "        4.47053797e-01, -2.09175492e-01, -6.44481601e-02, -3.85962792e-02,\n",
       "       -2.50316311e-01, -4.97649550e-01, -6.16498928e-01,  8.89953118e-01,\n",
       "        1.63320139e-01,  5.08555801e-01,  1.30950704e+00,  7.71841528e-02,\n",
       "       -4.40358668e-01, -2.93868873e-02, -9.61611973e-01,  7.79575489e-01,\n",
       "        8.93612760e-01, -1.21467697e+00,  1.24799109e+00, -1.52773769e+00,\n",
       "        2.61779817e-01,  1.39326523e-01,  2.22673483e-01,  2.19579437e-02])"
      ]
     },
     "execution_count": 92,
     "metadata": {},
     "output_type": "execute_result"
    }
   ],
   "source": [
    "data2"
   ]
  },
  {
   "cell_type": "code",
   "execution_count": 94,
   "metadata": {},
   "outputs": [],
   "source": [
    "#Copie o ndarray para um novo ndarray\n",
    "data3 = data2.copy()"
   ]
  },
  {
   "cell_type": "code",
   "execution_count": 95,
   "metadata": {},
   "outputs": [
    {
     "data": {
      "text/plain": [
       "array([-1.13384970e+00,  7.24892750e-02,  1.05942495e+00, -8.18828036e-02,\n",
       "       -5.15179147e-02, -4.73548938e-01,  8.16519637e-01, -8.72712409e-01,\n",
       "        1.27003105e+00,  1.47674352e+00,  7.02036123e-01,  1.13983137e+00,\n",
       "       -4.19724924e-01,  1.81119860e+00,  2.05796973e-01, -9.11807376e-01,\n",
       "        1.52900319e+00, -1.08570887e-01,  1.28000000e+02,  1.28000000e+02,\n",
       "        1.28000000e+02,  1.28000000e+02,  1.28000000e+02,  1.28000000e+02,\n",
       "        1.28000000e+02,  1.28000000e+02,  1.28000000e+02,  1.28000000e+02,\n",
       "        1.28000000e+02,  1.28000000e+02,  1.28000000e+02,  1.28000000e+02,\n",
       "        1.28000000e+02,  1.86807032e-01,  3.60672680e-01, -9.49996341e-01,\n",
       "        1.03675775e+00, -9.57484967e-01,  3.85338056e-02,  9.89952423e-01,\n",
       "       -4.92069979e-01, -1.48991978e-01, -2.14052360e+00,  8.63602737e-01,\n",
       "        2.54215537e-01,  1.16627032e+00, -9.02413321e-01, -1.74285104e-01,\n",
       "       -6.62308611e-01, -3.36081033e-01,  4.56635971e-02, -2.30821086e+00,\n",
       "        2.89124060e-01,  2.05849755e+00, -1.51805020e-01,  7.51238695e-01,\n",
       "        2.36421539e-01, -7.77205415e-01, -1.46646017e+00,  2.50227336e-01,\n",
       "        8.70505485e-01,  9.03820025e-01,  5.64914345e-01,  2.33632319e+00,\n",
       "        1.37379492e+00,  6.35778356e-01, -8.70591557e-02,  1.11003760e+00,\n",
       "       -6.59393176e-02, -1.39949031e+00, -1.24948654e+00,  4.05929303e-01,\n",
       "        7.00267911e-01, -2.51909076e-01,  4.90476013e-01, -1.56501240e-01,\n",
       "        4.47053797e-01, -2.09175492e-01, -6.44481601e-02, -3.85962792e-02,\n",
       "       -2.50316311e-01, -4.97649550e-01, -6.16498928e-01,  8.89953118e-01,\n",
       "        1.63320139e-01,  5.08555801e-01,  1.30950704e+00,  7.71841528e-02,\n",
       "       -4.40358668e-01, -2.93868873e-02, -9.61611973e-01,  7.79575489e-01,\n",
       "        8.93612760e-01, -1.21467697e+00,  1.24799109e+00, -1.52773769e+00,\n",
       "        2.61779817e-01,  1.39326523e-01,  2.22673483e-01,  2.19579437e-02])"
      ]
     },
     "execution_count": 95,
     "metadata": {},
     "output_type": "execute_result"
    }
   ],
   "source": [
    "data3"
   ]
  },
  {
   "cell_type": "code",
   "execution_count": 96,
   "metadata": {},
   "outputs": [
    {
     "data": {
      "text/plain": [
       "array([-1.13384970e+00,  7.24892750e-02,  1.05942495e+00, -8.18828036e-02,\n",
       "       -5.15179147e-02, -4.73548938e-01,  8.16519637e-01, -8.72712409e-01,\n",
       "        1.27003105e+00,  1.47674352e+00,  7.02036123e-01,  1.13983137e+00,\n",
       "       -4.19724924e-01,  1.81119860e+00,  2.05796973e-01, -9.11807376e-01,\n",
       "        1.52900319e+00, -1.08570887e-01,  1.28000000e+02,  1.28000000e+02,\n",
       "        1.28000000e+02,  1.28000000e+02,  1.28000000e+02,  1.28000000e+02,\n",
       "        1.28000000e+02,  1.28000000e+02,  1.28000000e+02,  1.28000000e+02,\n",
       "        1.28000000e+02,  1.28000000e+02,  1.28000000e+02,  1.28000000e+02,\n",
       "        1.28000000e+02,  1.86807032e-01,  3.60672680e-01, -9.49996341e-01,\n",
       "        1.03675775e+00, -9.57484967e-01,  3.85338056e-02,  9.89952423e-01,\n",
       "       -4.92069979e-01, -1.48991978e-01, -2.14052360e+00,  8.63602737e-01,\n",
       "        2.54215537e-01,  1.16627032e+00, -9.02413321e-01, -1.74285104e-01,\n",
       "       -6.62308611e-01, -3.36081033e-01,  4.56635971e-02, -2.30821086e+00,\n",
       "        2.89124060e-01,  2.05849755e+00, -1.51805020e-01,  7.51238695e-01,\n",
       "        2.36421539e-01, -7.77205415e-01, -1.46646017e+00,  2.50227336e-01,\n",
       "        8.70505485e-01,  9.03820025e-01,  5.64914345e-01,  2.33632319e+00,\n",
       "        1.37379492e+00,  6.35778356e-01, -8.70591557e-02,  1.11003760e+00,\n",
       "       -6.59393176e-02, -1.39949031e+00, -1.24948654e+00,  4.05929303e-01,\n",
       "        7.00267911e-01, -2.51909076e-01,  4.90476013e-01, -1.56501240e-01,\n",
       "        4.47053797e-01, -2.09175492e-01, -6.44481601e-02, -3.85962792e-02,\n",
       "       -2.50316311e-01, -4.97649550e-01, -6.16498928e-01,  8.89953118e-01,\n",
       "        1.63320139e-01,  5.08555801e-01,  1.30950704e+00,  7.71841528e-02,\n",
       "       -4.40358668e-01, -2.93868873e-02, -9.61611973e-01,  7.79575489e-01,\n",
       "        8.93612760e-01, -1.21467697e+00,  1.24799109e+00, -1.52773769e+00,\n",
       "        2.61779817e-01,  1.39326523e-01,  2.22673483e-01,  2.19579437e-02])"
      ]
     },
     "execution_count": 96,
     "metadata": {},
     "output_type": "execute_result"
    }
   ],
   "source": [
    "#Exiba o primeiro ndarray\n",
    "data2"
   ]
  },
  {
   "cell_type": "code",
   "execution_count": 97,
   "metadata": {},
   "outputs": [],
   "source": [
    "#Altere o segundo ndarray modificando os índices de 18 a 32 para 256\n",
    "data3[18:33]=256"
   ]
  },
  {
   "cell_type": "code",
   "execution_count": 98,
   "metadata": {},
   "outputs": [
    {
     "data": {
      "text/plain": [
       "array([-1.13384970e+00,  7.24892750e-02,  1.05942495e+00, -8.18828036e-02,\n",
       "       -5.15179147e-02, -4.73548938e-01,  8.16519637e-01, -8.72712409e-01,\n",
       "        1.27003105e+00,  1.47674352e+00,  7.02036123e-01,  1.13983137e+00,\n",
       "       -4.19724924e-01,  1.81119860e+00,  2.05796973e-01, -9.11807376e-01,\n",
       "        1.52900319e+00, -1.08570887e-01,  2.56000000e+02,  2.56000000e+02,\n",
       "        2.56000000e+02,  2.56000000e+02,  2.56000000e+02,  2.56000000e+02,\n",
       "        2.56000000e+02,  2.56000000e+02,  2.56000000e+02,  2.56000000e+02,\n",
       "        2.56000000e+02,  2.56000000e+02,  2.56000000e+02,  2.56000000e+02,\n",
       "        2.56000000e+02,  1.86807032e-01,  3.60672680e-01, -9.49996341e-01,\n",
       "        1.03675775e+00, -9.57484967e-01,  3.85338056e-02,  9.89952423e-01,\n",
       "       -4.92069979e-01, -1.48991978e-01, -2.14052360e+00,  8.63602737e-01,\n",
       "        2.54215537e-01,  1.16627032e+00, -9.02413321e-01, -1.74285104e-01,\n",
       "       -6.62308611e-01, -3.36081033e-01,  4.56635971e-02, -2.30821086e+00,\n",
       "        2.89124060e-01,  2.05849755e+00, -1.51805020e-01,  7.51238695e-01,\n",
       "        2.36421539e-01, -7.77205415e-01, -1.46646017e+00,  2.50227336e-01,\n",
       "        8.70505485e-01,  9.03820025e-01,  5.64914345e-01,  2.33632319e+00,\n",
       "        1.37379492e+00,  6.35778356e-01, -8.70591557e-02,  1.11003760e+00,\n",
       "       -6.59393176e-02, -1.39949031e+00, -1.24948654e+00,  4.05929303e-01,\n",
       "        7.00267911e-01, -2.51909076e-01,  4.90476013e-01, -1.56501240e-01,\n",
       "        4.47053797e-01, -2.09175492e-01, -6.44481601e-02, -3.85962792e-02,\n",
       "       -2.50316311e-01, -4.97649550e-01, -6.16498928e-01,  8.89953118e-01,\n",
       "        1.63320139e-01,  5.08555801e-01,  1.30950704e+00,  7.71841528e-02,\n",
       "       -4.40358668e-01, -2.93868873e-02, -9.61611973e-01,  7.79575489e-01,\n",
       "        8.93612760e-01, -1.21467697e+00,  1.24799109e+00, -1.52773769e+00,\n",
       "        2.61779817e-01,  1.39326523e-01,  2.22673483e-01,  2.19579437e-02])"
      ]
     },
     "execution_count": 98,
     "metadata": {},
     "output_type": "execute_result"
    }
   ],
   "source": [
    "#Exiba o segundo ndarray\n",
    "data3"
   ]
  },
  {
   "cell_type": "markdown",
   "metadata": {},
   "source": [
    "### Exercício 7"
   ]
  },
  {
   "cell_type": "code",
   "execution_count": 79,
   "metadata": {},
   "outputs": [
    {
     "name": "stdout",
     "output_type": "stream",
     "text": [
      "[[ 1  2  3  4]\n",
      " [ 5  6  7  8]\n",
      " [ 9 10 11 12]\n",
      " [13 14 15 16]]\n",
      "[5 6 7]\n",
      "[ 7 11 15]\n"
     ]
    }
   ],
   "source": [
    "#Crie a matriz abaixo\n",
    "arr2d = np.array([[1, 2, 3, 4], [5, 6, 7, 8], [9, 10, 11, 12], [13, 14, 15, 16]])\n",
    "print(arr2d)\n",
    "#Selecione através dos índices os itens 5, 6 e 7\n",
    "print(arr2d[1,:-1])\n",
    "#Selecione através dos índices os itens 7, 11 e 15\n",
    "print(arr2d[1:,2])"
   ]
  },
  {
   "cell_type": "markdown",
   "metadata": {},
   "source": [
    "### Exercício 8"
   ]
  },
  {
   "cell_type": "code",
   "execution_count": 58,
   "metadata": {},
   "outputs": [],
   "source": [
    "#Crie uma lista com os nomes: Antônio, Carlos, Carlos, Antônio, José, Alfredo, Alfredo, Antônio\n",
    "nomes = np.array(['Antônio', 'Carlos', 'Carlos', 'Antônio', 'José', 'Alfredo', 'Alfredo', 'Antônio'])"
   ]
  },
  {
   "cell_type": "code",
   "execution_count": 60,
   "metadata": {},
   "outputs": [],
   "source": [
    "#Crie uma lista chamada dívidas com os seguintes valores: 1000., 500., 0, 1640, 18399.99, 42640.18, 70., 84.90\n",
    "dividas = np.array([1000., 500., 0, 1640, 18399.99, 42640.18, 70., 84.90])"
   ]
  },
  {
   "cell_type": "code",
   "execution_count": 61,
   "metadata": {},
   "outputs": [
    {
     "data": {
      "text/plain": [
       "array([1000. , 1640. ,   84.9])"
      ]
     },
     "execution_count": 61,
     "metadata": {},
     "output_type": "execute_result"
    }
   ],
   "source": [
    "#Busque na lista de nomes as ocorrências de Antônio e exiba suas dívidas\n",
    "dividas[nomes=='Antônio']"
   ]
  },
  {
   "cell_type": "code",
   "execution_count": 62,
   "metadata": {},
   "outputs": [
    {
     "data": {
      "text/plain": [
       "array([18399.99])"
      ]
     },
     "execution_count": 62,
     "metadata": {},
     "output_type": "execute_result"
    }
   ],
   "source": [
    "#Busque na lista de nomes as ocorrências de José e exiba suas dívidas\n",
    "dividas[nomes=='José']"
   ]
  },
  {
   "cell_type": "code",
   "execution_count": 99,
   "metadata": {},
   "outputs": [
    {
     "data": {
      "text/plain": [
       "array(['Alfredo', 'Alfredo', 'Carlos', 'Carlos'], dtype='<U7')"
      ]
     },
     "execution_count": 99,
     "metadata": {},
     "output_type": "execute_result"
    }
   ],
   "source": [
    "#Exiba as dívidas das pessoas diferente de Antônio e José\n",
    "nomes[(nomes != \"Antônio\") & (nomes != \"José\")]"
   ]
  },
  {
   "cell_type": "code",
   "execution_count": 68,
   "metadata": {},
   "outputs": [
    {
     "data": {
      "text/plain": [
       "array(['Carlos'], dtype='<U7')"
      ]
     },
     "execution_count": 68,
     "metadata": {},
     "output_type": "execute_result"
    }
   ],
   "source": [
    "#Exiba os nomes das pessoas que possuem dívidas igual a 0 (zero)\n",
    "nomes[dividas==0]"
   ]
  },
  {
   "cell_type": "code",
   "execution_count": 70,
   "metadata": {},
   "outputs": [
    {
     "data": {
      "text/plain": [
       "array(['José', 'Alfredo'], dtype='<U7')"
      ]
     },
     "execution_count": 70,
     "metadata": {},
     "output_type": "execute_result"
    }
   ],
   "source": [
    "#Exiba os nomes das pessoas que possuem dívidas maior que 10000 (dez mil)\n",
    "nomes[dividas>10000]\n"
   ]
  },
  {
   "cell_type": "code",
   "execution_count": 100,
   "metadata": {},
   "outputs": [
    {
     "data": {
      "text/plain": [
       "array(['Carlos', 'José'], dtype='<U7')"
      ]
     },
     "execution_count": 100,
     "metadata": {},
     "output_type": "execute_result"
    }
   ],
   "source": [
    "#Exiba os nomes das pessoas que possuem dívidas menores que 100 (cem) e maior do que 0 (zero)\n",
    "nomes[(dividas < 100) & (dividas > 0)]"
   ]
  },
  {
   "cell_type": "markdown",
   "metadata": {},
   "source": [
    "### Exercício 9"
   ]
  },
  {
   "cell_type": "code",
   "execution_count": 75,
   "metadata": {},
   "outputs": [
    {
     "data": {
      "text/plain": [
       "array(['Alfredo', 'Alfredo', 'Antônio', 'Antônio', 'Antônio', 'Carlos',\n",
       "       'Carlos', 'José'], dtype='<U7')"
      ]
     },
     "execution_count": 75,
     "metadata": {},
     "output_type": "execute_result"
    }
   ],
   "source": [
    "#Ordene e exiba a lista de nomes criado no execício anterior\n",
    "nomes.sort()\n",
    "nomes"
   ]
  },
  {
   "cell_type": "code",
   "execution_count": 102,
   "metadata": {},
   "outputs": [
    {
     "name": "stdout",
     "output_type": "stream",
     "text": [
      "[ 1000.     500.       0.    1640.   18399.99 42640.18    70.      84.9 ]\n",
      "[42640.18 18399.99  1640.    1000.     500.      84.9     70.       0.  ]\n"
     ]
    }
   ],
   "source": [
    "#Ordene em ordem decrescente e exiba a lista de valores criado no execício anterior\n",
    "dividas_ord = -np.sort(-dividas)\n",
    "print(dividas)\n",
    "print(dividas_ord)"
   ]
  },
  {
   "cell_type": "markdown",
   "metadata": {},
   "source": [
    "### Exercício 10"
   ]
  },
  {
   "cell_type": "code",
   "execution_count": 77,
   "metadata": {},
   "outputs": [
    {
     "name": "stdout",
     "output_type": "stream",
     "text": [
      "['Alfredo' 'Antônio' 'Carlos' 'José']\n",
      "[    0.      70.      84.9    500.    1000.    1640.   18399.99 42640.18]\n"
     ]
    }
   ],
   "source": [
    "#Exiba os valores únicos das listas criadas no exercício 8\n",
    "print(np.unique(nomes))\n",
    "print(np.unique(dividas))"
   ]
  }
 ],
 "metadata": {
  "kernelspec": {
   "display_name": "Python 3",
   "language": "python",
   "name": "python3"
  },
  "language_info": {
   "codemirror_mode": {
    "name": "ipython",
    "version": 3
   },
   "file_extension": ".py",
   "mimetype": "text/x-python",
   "name": "python",
   "nbconvert_exporter": "python",
   "pygments_lexer": "ipython3",
   "version": "3.6.9"
  }
 },
 "nbformat": 4,
 "nbformat_minor": 2
}
