{
 "cells": [
  {
   "cell_type": "markdown",
   "metadata": {},
   "source": [
    "# Trabalho final - Python para Data Science - Rafael Mello Brunoro"
   ]
  },
  {
   "cell_type": "markdown",
   "metadata": {},
   "source": [
    "Carga de dados feita através de dados coletados em um experimento \n",
    "de medição de cobertura de uma rede LoRa no município de Cariacica.\n",
    "Inserido valores de Potência simulados no software \"Radio Mobile\", correspondente à área estudada."
   ]
  },
  {
   "cell_type": "code",
   "execution_count": null,
   "metadata": {},
   "outputs": [],
   "source": [
    "import numpy as np\n",
    "import pandas as pd\n",
    "import matplotlib.pyplot as plt\n",
    "%matplotlib inline"
   ]
  },
  {
   "cell_type": "code",
   "execution_count": null,
   "metadata": {},
   "outputs": [],
   "source": [
    "# Leitura de dataset através de arquivo xlsx\n",
    "xlsx = pd.read_excel('dataset-cpid.xlsx','data')\n",
    "xlsx"
   ]
  },
  {
   "cell_type": "code",
   "execution_count": null,
   "metadata": {},
   "outputs": [],
   "source": [
    "# Limpeza de colunas com valores nulos\n",
    "limpo = xlsx.dropna(axis='columns')\n",
    "dist = limpo['Distância(Km)']\n",
    "pot_med = limpo['Potencia medida(dBm)']\n",
    "pot_sim = limpo['Potencia Simulada-76%(dBm)']\n",
    "sr = limpo[' snr']\n",
    "limpo"
   ]
  },
  {
   "cell_type": "code",
   "execution_count": null,
   "metadata": {},
   "outputs": [],
   "source": [
    "# Exibição de dados estatísticos do DataSet\n",
    "limpo.describe()"
   ]
  },
  {
   "cell_type": "code",
   "execution_count": null,
   "metadata": {},
   "outputs": [],
   "source": [
    "# Exibição dos 5 primeiros itens da tabela\n",
    "limpo.head()"
   ]
  },
  {
   "cell_type": "code",
   "execution_count": null,
   "metadata": {},
   "outputs": [],
   "source": [
    "# Exibição dos 5 últimos itens da tabela\n",
    "limpo.tail()"
   ]
  },
  {
   "cell_type": "code",
   "execution_count": null,
   "metadata": {},
   "outputs": [],
   "source": [
    "# Gráfico da Potência Medida e Potência Simulada (dBm) em relação a distância dos pontos\n",
    "fig, axs=plt.subplots(figsize=(30,10))\n",
    "plt.plot( dist, pot_med, 'k', color='green', label='Potência Medida')\n",
    "plt.plot( dist, pot_sim, 'k', color='blue', label='Potência Simulada')  \n",
    "plt.title(\"Potência Medida e Simulada (dBm) x Distância (km)\")\n",
    "plt.grid(True)\n",
    "plt.xlabel(\"Distância (km)\")\n",
    "plt.ylabel(\"Potência (dBm)\")\n",
    "plt.legend(loc='best')\n",
    "plt.show()"
   ]
  },
  {
   "cell_type": "code",
   "execution_count": null,
   "metadata": {},
   "outputs": [],
   "source": [
    "# Gráfico do SNR (Relação Sinal/Ruído) em relação a distância dos pontos\n",
    "fig, axs=plt.subplots(figsize=(30,10))\n",
    "plt.plot( dist, sr, 'go')\n",
    "plt.plot( dist, sr, 'k', color='green', label='SNR')\n",
    "plt.title(\"SNR x Distância (km)\")\n",
    "plt.grid(True)\n",
    "plt.xlabel(\"Distância (km)\")\n",
    "plt.ylabel(\"SNR\")\n",
    "plt.legend(loc='best')\n",
    "plt.show()"
   ]
  },
  {
   "cell_type": "code",
   "execution_count": null,
   "metadata": {},
   "outputs": [],
   "source": [
    "# Reorganização dos dados pelo horário de ocorrência\n",
    "limpo2 = limpo.sort_values(['Horas'])\n",
    "horas = limpo2['Horas']\n",
    "pot_med = limpo2['Potencia medida(dBm)']\n",
    "pot_sim = limpo2['Potencia Simulada-76%(dBm)']\n",
    "sr2 = limpo2[' snr']\n",
    "limpo2"
   ]
  },
  {
   "cell_type": "code",
   "execution_count": null,
   "metadata": {},
   "outputs": [],
   "source": [
    "# Gráfico da Potência Medida e Potência Simulada (dBm) em relação as Horas\n",
    "fig, axs=plt.subplots(figsize=(30,10))\n",
    "plt.plot( horas, pot_med, 'k', color='green', label='Potência Medida')\n",
    "plt.plot( horas, pot_sim, 'k', color='blue', label='Potência Simulada')\n",
    "plt.title(\"Potência Medida e Simulada (dBm) x Horas\")\n",
    "plt.grid(True)\n",
    "plt.xlabel(\"Horário\")\n",
    "plt.ylabel(\"Potência (dBm)\")\n",
    "plt.legend(loc='best')\n",
    "plt.show()"
   ]
  },
  {
   "cell_type": "code",
   "execution_count": null,
   "metadata": {},
   "outputs": [],
   "source": [
    "# Gráfico do SNR (Relação Sinal/Ruído) em relação ao Horário\n",
    "fig, axs=plt.subplots(figsize=(30,10))\n",
    "plt.plot( horas, sr2, 'go')\n",
    "plt.plot( horas, sr2, 'k', color='green', label='SNR')\n",
    "plt.title(\"SNR x Horas\")\n",
    "plt.grid(True)\n",
    "plt.xlabel(\"Distância (km)\")\n",
    "plt.ylabel(\"SNR\")\n",
    "plt.legend(loc='best')\n",
    "plt.show()"
   ]
  }
 ],
 "metadata": {
  "kernelspec": {
   "display_name": "Python 3",
   "language": "python",
   "name": "python3"
  },
  "language_info": {
   "codemirror_mode": {
    "name": "ipython",
    "version": 3
   },
   "file_extension": ".py",
   "mimetype": "text/x-python",
   "name": "python",
   "nbconvert_exporter": "python",
   "pygments_lexer": "ipython3",
   "version": "3.6.9"
  }
 },
 "nbformat": 4,
 "nbformat_minor": 2
}
