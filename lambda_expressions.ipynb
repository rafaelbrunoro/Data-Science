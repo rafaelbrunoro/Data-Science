{
  "nbformat": 4,
  "nbformat_minor": 0,
  "metadata": {
    "kernelspec": {
      "display_name": "Python 3",
      "language": "python",
      "name": "python3"
    },
    "language_info": {
      "codemirror_mode": {
        "name": "ipython",
        "version": 3
      },
      "file_extension": ".py",
      "mimetype": "text/x-python",
      "name": "python",
      "nbconvert_exporter": "python",
      "pygments_lexer": "ipython3",
      "version": "3.8.5"
    },
    "colab": {
      "name": "lambda_expressions.ipynb",
      "provenance": []
    }
  },
  "cells": [
    {
      "cell_type": "markdown",
      "metadata": {
        "id": "B4cdxs0Gp4IP"
      },
      "source": [
        "## Expressões lambda em Python com map, reduce e filter\n",
        "\n",
        "*uma introdução ao conceito das funções anônimas, e utilizações deste recurso com map(), reduce() e filter().*\n",
        "\n",
        "Estou trazendo esse tópico hoje pois ele realmente é muito importante na nossa jornada de exploração das bibliotecas e códigos alheios.\n",
        "\n",
        "Estamos lá entendendo todo o código, e do nada aparece uma função lambda, quando não estamos acostumados parece um nó na cabeça e uma dúvida: o que aconteceu aqui?\n",
        "\n",
        "Talvez pela sua sintaxe simples e resumida, por fazer muito com pouco, este recurso tem a habilidade secreta de nos confundir, mas depois desta leitura você estará apto a compreender as expressões lambda com facilidade e não passar mais por isso.\n",
        "\n",
        "Obs: já fui vítima muitas vezes desta situação. :(\n",
        "\n",
        "## O que são expressões lambda?\n",
        "\n",
        "São funções anônimas que podem ser criadas com a palavra-chave lambda. Elas podem ser utilizadas sempre, ou quase sempre, que funções sejam necessárias em seu código.\n",
        "\n",
        "Porém, estas expressões são restritas a uma única linha ( sem gambiarras :) ). \n",
        "\n",
        "Outra característa, e a mais notável, é que sua sintaxe é muito mais curta do que uma função normal em Python.\n",
        "\n",
        "Um ponto importante é que estas funções possuem um return implicito, ou seja, toda função lambda retornará o resultado final da operação.\n",
        "\n",
        "## Hello World nas funções lambda\n",
        "\n",
        "Antes de mais nada vamos por a mão na massa, e já executar uma função lambda!"
      ]
    },
    {
      "cell_type": "code",
      "metadata": {
        "id": "c0ICUReOp4IR",
        "outputId": "50bdb40c-f910-40c3-ce51-f6c35e0cb48f",
        "colab": {
          "base_uri": "https://localhost:8080/",
          "height": 35
        }
      },
      "source": [
        "# Nossa primeira função lambda\n",
        "f = lambda a, b: a * b\n",
        "\n",
        "# Passando os argumentos para executar a função\n",
        "f(5,2)"
      ],
      "execution_count": null,
      "outputs": [
        {
          "output_type": "execute_result",
          "data": {
            "text/plain": [
              "10"
            ]
          },
          "metadata": {
            "tags": []
          },
          "execution_count": 1
        }
      ]
    },
    {
      "cell_type": "markdown",
      "metadata": {
        "id": "wnDv71FUp4Ib"
      },
      "source": [
        "## O que acabou de acontecer?\n",
        "\n",
        "Perceba que definimos a função lambda na primeira sentença, atribuímos a função a uma variável e por fim executamos a função com os dois argumentos necessários para ela.\n",
        "\n",
        "Vamos entender agora como construiremos nossas funções\n",
        "\n",
        "## Sintaxe da função lambda\n",
        "\n",
        "O passo a passo para formação de uma função lambda\n",
        "\n",
        "1. Definimos a função com a palavra **lambda**\n",
        "2. Após definir a função os parâmetros devem ser inseridos\n",
        "3. Colocamos **:** após os parâmetros\n",
        "4. Inserimos a lógica da função\n",
        "5. Podemos definir uma variável para a função lambda ( opcional )"
      ]
    },
    {
      "cell_type": "code",
      "metadata": {
        "id": "EQr8AoIup4Ie",
        "outputId": "4d29e38a-8778-4f7b-b7dd-d724022e19ef",
        "colab": {
          "base_uri": "https://localhost:8080/",
          "height": 35
        }
      },
      "source": [
        "# Veja mais um exemplo\n",
        "soma = lambda x, y: x + y\n",
        "\n",
        "soma(5,2)"
      ],
      "execution_count": null,
      "outputs": [
        {
          "output_type": "execute_result",
          "data": {
            "text/plain": [
              "7"
            ]
          },
          "metadata": {
            "tags": []
          },
          "execution_count": 2
        }
      ]
    },
    {
      "cell_type": "markdown",
      "metadata": {
        "id": "MRt8ofgrp4Io"
      },
      "source": [
        "## Definir a variável é opcional\n",
        "\n",
        "Como dito antes, podemos fazer uma função lambda sem a utilização de variável.\n",
        "\n",
        "Assim ela vai ser executada assim que for definida, confira a sintaxe da função lambda soma sem variável:"
      ]
    },
    {
      "cell_type": "code",
      "metadata": {
        "id": "H2Ijhpx9p4Iq",
        "outputId": "9c36f68d-086f-4890-fc30-5aed9fe210e7"
      },
      "source": [
        "(lambda x, y: x + y)(1,2)"
      ],
      "execution_count": null,
      "outputs": [
        {
          "output_type": "execute_result",
          "data": {
            "text/plain": [
              "3"
            ]
          },
          "metadata": {
            "tags": []
          },
          "execution_count": 3
        }
      ]
    },
    {
      "cell_type": "markdown",
      "metadata": {
        "id": "bLRvQFn1p4Ix"
      },
      "source": [
        "Nós envolvemos tanto a função, quanto os parâmetros entre parênteses, assim ela não vai necessitar de estar numa variável. Em outras linguagens temos funções anônimas que também seguem este padrão para serem 'autoexecutadas' sem precisar a chamada.\n",
        "\n",
        "## Diferença de uma função normal\n",
        "\n",
        "Vamos fazer agora um rapido comparativo entre função lambda e função normal:"
      ]
    },
    {
      "cell_type": "code",
      "metadata": {
        "id": "m6fle4Icp4Iy",
        "outputId": "dddf7d0e-9b81-4f64-8063-be507bcca59b"
      },
      "source": [
        "# Função normal definição e execução\n",
        "def subtrair(x,y):\n",
        "    return x - y\n",
        "\n",
        "subtrair(5,2)"
      ],
      "execution_count": null,
      "outputs": [
        {
          "output_type": "execute_result",
          "data": {
            "text/plain": [
              "3"
            ]
          },
          "metadata": {
            "tags": []
          },
          "execution_count": 4
        }
      ]
    },
    {
      "cell_type": "code",
      "metadata": {
        "id": "jzbABvbzp4I3",
        "outputId": "ebad6eb4-953f-4985-eaeb-87bed6afcbe3"
      },
      "source": [
        "# Função lambda definição e execução\n",
        "s = lambda x,y: x - y\n",
        "\n",
        "s(5,2)"
      ],
      "execution_count": null,
      "outputs": [
        {
          "output_type": "execute_result",
          "data": {
            "text/plain": [
              "3"
            ]
          },
          "metadata": {
            "tags": []
          },
          "execution_count": 5
        }
      ]
    },
    {
      "cell_type": "markdown",
      "metadata": {
        "id": "l9rC5rdcp4JB"
      },
      "source": [
        "As diferenças são:\n",
        "\n",
        "- Não precisamos do **def** para definir\n",
        "- Não precisamos do **return**\n",
        "- Podemos formar a função lambda e executar na mesma linha"
      ]
    },
    {
      "cell_type": "markdown",
      "metadata": {
        "id": "Qu0m_k8hp4JC"
      },
      "source": [
        "## O real poder das funções lambda\n",
        "\n",
        "Agora que vimos como ela é construída e como pode ser utilizada, vamos ver aonde elas realmente se sobressaem.\n",
        "\n",
        "Em conjunto de outras funções como map, reduce e filter lambda mostra toda sua utilidade, vamos ver os exemplos:\n",
        "\n",
        "## lambda com map:\n",
        "\n",
        "A função map() serve para aplicarmos uma função a cada um dos elementos passado em lista como argumento a ela.\n",
        "\n",
        "Observe a sintaxe:"
      ]
    },
    {
      "cell_type": "markdown",
      "metadata": {
        "id": "Ux9foksUp4JE"
      },
      "source": [
        "map(funcao_aplicada, lista_de_elementos)"
      ]
    },
    {
      "cell_type": "markdown",
      "metadata": {
        "id": "4o1AHNQip4JE"
      },
      "source": [
        "Agora vamos observar alguns casos utilizando a função lambda para nos auxiliar"
      ]
    },
    {
      "cell_type": "code",
      "metadata": {
        "id": "3BSevVanp4JF",
        "outputId": "78d8c8ad-3235-481b-fbc6-07395b53adf9",
        "colab": {
          "base_uri": "https://localhost:8080/",
          "height": 35
        }
      },
      "source": [
        "items = [1, 2, 3, 4, 5]\n",
        "\n",
        "double = list(map(lambda x: x*2, items))\n",
        "\n",
        "print(double)"
      ],
      "execution_count": null,
      "outputs": [
        {
          "output_type": "stream",
          "text": [
            "[2, 4, 6, 8, 10]\n"
          ],
          "name": "stdout"
        }
      ]
    },
    {
      "cell_type": "markdown",
      "metadata": {
        "id": "Mw81PUcap4JK"
      },
      "source": [
        "No exemplo acima usamos uma lista de números, e aplicamos uma função lambda em x, que seria cada um dos números presentes na lista.\n",
        "\n",
        "Assim é retornado o dobro deles com a operação: x\\*2, e como a operação irá nos retornar um *map object* utilizamos o metodo list para voltar a ter um array.\n",
        "\n",
        "### Podemos abstrair mais:\n",
        "\n",
        "Veja que podemos passar a lista diretamente na função map, sem ter que criar uma variável:"
      ]
    },
    {
      "cell_type": "code",
      "metadata": {
        "id": "PNS80PfEp4JK",
        "outputId": "b01a2668-ebb1-44e4-c8fc-77b33c896f8e",
        "colab": {
          "base_uri": "https://localhost:8080/",
          "height": 35
        }
      },
      "source": [
        "numbers = list(map(lambda x : x-1, [2, 3, 4, 5]))\n",
        "\n",
        "print(numbers)"
      ],
      "execution_count": null,
      "outputs": [
        {
          "output_type": "stream",
          "text": [
            "[1, 2, 3, 4]\n"
          ],
          "name": "stdout"
        }
      ]
    },
    {
      "cell_type": "markdown",
      "metadata": {
        "id": "YKee2o31p4JQ"
      },
      "source": [
        "Inserimos o array diretamente como argumento, assim reduzimos mais ainda o código.\n",
        "\n",
        "### map com dicionários\n",
        "\n",
        "Podemos iterar dicionários com map também, confira o exemplo:"
      ]
    },
    {
      "cell_type": "code",
      "metadata": {
        "scrolled": true,
        "id": "q4V6h9Mwp4JQ",
        "outputId": "463def78-530d-4e1f-ac79-0fff23f0d185",
        "colab": {
          "base_uri": "https://localhost:8080/",
          "height": 35
        }
      },
      "source": [
        "# Criando contas de banco fictícias\n",
        "accounts = [{'name': 'João', 'balance': 100}, {'name': 'Roberto', 'balance': 5000}, {'name': 'Augusto', 'balance': 2350}]\n",
        "  \n",
        "# Verificação com lambda\n",
        "print(list(map(lambda x : x['balance'] > 1000, accounts)))"
      ],
      "execution_count": null,
      "outputs": [
        {
          "output_type": "stream",
          "text": [
            "[False, True, True]\n"
          ],
          "name": "stdout"
        }
      ]
    },
    {
      "cell_type": "markdown",
      "metadata": {
        "id": "HoEFdhHXp4JW"
      },
      "source": [
        "No exemplo acima verificamos quais contas possuem mais de 1000 reais, a função *lambda* retornou os booleanos para cada uma das contas.\n",
        "\n",
        "## lambda com reduce:\n",
        "\n",
        "reduce() outra função nativa do python, ela vai aplicar uma função em todos os valores passados em forma de lista, e retornar apenas um valor. \n",
        "\n",
        "Sintaxe de reduce:"
      ]
    },
    {
      "cell_type": "markdown",
      "metadata": {
        "id": "yt8T1LJHp4JW"
      },
      "source": [
        "reduce(funcao_aplicada, lista_de_elementos)"
      ]
    },
    {
      "cell_type": "markdown",
      "metadata": {
        "id": "L7-BTH7Tp4JX"
      },
      "source": [
        "**Curiosidade:** reduce faz parte da lib *functools*, ou seja, precisamos importar esta biblioteca antes de utilizá-la. A função foi 'dropada' do core quando Python passou para a versão 3.\n",
        "\n",
        "Vamos observar como podemos utilizar reduce():"
      ]
    },
    {
      "cell_type": "code",
      "metadata": {
        "id": "_iI7WvX3p4JY",
        "outputId": "4c3e77e9-abd2-4613-a0c7-69d2e5f5d1f9",
        "colab": {
          "base_uri": "https://localhost:8080/",
          "height": 35
        }
      },
      "source": [
        "from functools import reduce\n",
        "\n",
        "soma = reduce((lambda x, y: x + y), [1, 2, 3, 4])\n",
        "\n",
        "print(soma)"
      ],
      "execution_count": null,
      "outputs": [
        {
          "output_type": "stream",
          "text": [
            "10\n"
          ],
          "name": "stdout"
        }
      ]
    },
    {
      "cell_type": "markdown",
      "metadata": {
        "id": "QLja7fIHp4Jd"
      },
      "source": [
        "No exemplo acima vimos a soma de todos os elementos de uma lista, que foi passada diretamente como argumento para a função reduce.\n",
        "\n",
        "A função lambda executou a soma de cada um dos elementos, fazendo reduce retornar 10.\n",
        "\n",
        "### Determinando maior número da lista com reduce():\n",
        "\n",
        "Outro caso para o reduce seria eleger o maior número de uma lista, confira:"
      ]
    },
    {
      "cell_type": "code",
      "metadata": {
        "id": "2M77n0c9p4Je",
        "outputId": "8aa5640d-6436-482d-fcec-909d6f4b10f6",
        "colab": {
          "base_uri": "https://localhost:8080/",
          "height": 35
        }
      },
      "source": [
        "lista = [12,43,3224,3,123,483,999,13,44,1000]\n",
        "\n",
        "maior = reduce((lambda x,y: x if(x > y) else y), lista)\n",
        "\n",
        "print(maior)"
      ],
      "execution_count": null,
      "outputs": [
        {
          "output_type": "stream",
          "text": [
            "3224\n"
          ],
          "name": "stdout"
        }
      ]
    },
    {
      "cell_type": "markdown",
      "metadata": {
        "id": "uMaVfkCNp4Jk"
      },
      "source": [
        "Usamos uma condicional if nesta função lambda.\n",
        "\n",
        "O if funciona da seguinte maneira: depois dos parâmetros x e y, colocamos o resultado que satisfaz a condição de if no lado esquerdo, e após o else o resultado que desejamos se a condição for falsa.\n",
        "\n",
        "## lambad com filter:\n",
        "\n",
        "Com o nome autoexplicativo, a função filter() filtra os elementos passados na função, de acordo com a função passada como primeiro argumento.\n",
        "\n",
        "Sintaxe de filter:"
      ]
    },
    {
      "cell_type": "markdown",
      "metadata": {
        "id": "dnyjHnVNp4Jl"
      },
      "source": [
        "filter(funcao_aplicada, lista_de_elementos)"
      ]
    },
    {
      "cell_type": "markdown",
      "metadata": {
        "id": "jprUGOHgp4Jm"
      },
      "source": [
        "filter se parece muito com as outras em questão de argumentos, função para aplicar e lista de elementos.\n",
        "\n",
        "Vamos ver como podemos utilizar filter:"
      ]
    },
    {
      "cell_type": "code",
      "metadata": {
        "id": "iEgc0Fa9p4Jm",
        "outputId": "255aa53e-c0d3-4013-b411-abd6f8f867cd",
        "colab": {
          "base_uri": "https://localhost:8080/",
          "height": 35
        }
      },
      "source": [
        "lista = [1,2,3,4,5,6,7,8,10,11,41,123,43,32,44,54,12,4,5,17,99]\n",
        "\n",
        "numeros_pares = list(filter(lambda x: x % 2 == 0, lista))\n",
        "\n",
        "print(numeros_pares)"
      ],
      "execution_count": null,
      "outputs": [
        {
          "output_type": "stream",
          "text": [
            "[2, 4, 6, 8, 10, 32, 44, 54, 12, 4]\n"
          ],
          "name": "stdout"
        }
      ]
    },
    {
      "cell_type": "markdown",
      "metadata": {
        "id": "1lpkUI6dp4Jq"
      },
      "source": [
        "Neste exemplo vimos como retornar uma lista de valores pares com o auxílio de filter e lambda.\n",
        "\n",
        "Agora veremos outra situação, retornar os números menores que 0 de uma lista:"
      ]
    },
    {
      "cell_type": "code",
      "metadata": {
        "id": "HztDxnvip4Jr",
        "outputId": "0840dfa8-f5cf-45ae-c302-8f338f904832",
        "colab": {
          "base_uri": "https://localhost:8080/",
          "height": 35
        }
      },
      "source": [
        "lista = range(-5, 5)\n",
        "\n",
        "menor_que_zero = list(filter(lambda x: x < 0, lista))\n",
        "\n",
        "print(menor_que_zero)"
      ],
      "execution_count": null,
      "outputs": [
        {
          "output_type": "stream",
          "text": [
            "[-5, -4, -3, -2, -1]\n"
          ],
          "name": "stdout"
        }
      ]
    },
    {
      "cell_type": "markdown",
      "metadata": {
        "id": "FN6ORLAip4Jy"
      },
      "source": [
        "Utilizamos o método range, que nos gerou uma lista de números de -5 a 4, pois o último argumento de range não é incluído, que no caso é 5.\n",
        "\n",
        "## Conclusão\n",
        "\n",
        "Vimos o que são e como construir uma função lambda, desde a sua sintaxe até a comparação com uma função normal.\n",
        "\n",
        "Apresentamos alguns casos de uso, e vimos que não precisamos definir ela por uma variável.\n",
        "\n",
        "Depois aplicamos ela em três metodos muito conhecidos do Python map, reduce e filter.\n",
        "\n",
        "Vimos em detalhes como cada um deles funcionam:\n",
        "\n",
        "- map(): aplicar uma função em cada um dos elementos de uma lista;\n",
        "- reduce(): aplicar uma função nos elementos da lista, reduzindo a um elemento só;\n",
        "- filter(): filtrar elementos de uma lista por meio de uma função;\n",
        "\n",
        "Agora quando vermos uma função lambda em um código de terceiros, vamos conseguir interpretar o que está acontecendo naquela linha e também caso você queira aplicar em um código seu estará apto!\n"
      ]
    }
  ]
}