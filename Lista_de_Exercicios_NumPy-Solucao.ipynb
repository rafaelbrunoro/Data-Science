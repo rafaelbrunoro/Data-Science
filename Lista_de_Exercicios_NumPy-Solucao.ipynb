{
 "cells": [
  {
   "cell_type": "markdown",
   "metadata": {},
   "source": [
    "# Lista de Exercícios: NumPy\n",
    "\n",
    "## Alguns dos exercícios podem requerer pesquisa adicional na documentação dos pacotes. Pesquise!\n",
    "\n",
    "### Exercício 1 "
   ]
  },
  {
   "cell_type": "code",
   "execution_count": 1,
   "metadata": {},
   "outputs": [],
   "source": [
    "#Importe a biblioteca NumPy para seu Notebook\n",
    "import numpy as np"
   ]
  },
  {
   "cell_type": "markdown",
   "metadata": {},
   "source": [
    "### Exercício 2"
   ]
  },
  {
   "cell_type": "code",
   "execution_count": 2,
   "metadata": {},
   "outputs": [
    {
     "name": "stdout",
     "output_type": "stream",
     "text": [
      "Wall time: 339 ms\n"
     ]
    }
   ],
   "source": [
    "#Compare a velocidade, da operação a seguir, entre uma lista de Python Puro e um ndarray do NumPy com 1 bilhão de elementos\n",
    "#\n",
    "#Eleve a potência quadrática cada elemento do ndarray e da lista e exiba o tempo de execução de cada um dos objetos\n",
    "my_arr = np.arange(10000000)\n",
    "my_list = list(range(10000000))\n",
    "\n",
    "%time for _ in range(10): my_arr2 = my_arr ** 2"
   ]
  },
  {
   "cell_type": "code",
   "execution_count": 3,
   "metadata": {},
   "outputs": [
    {
     "name": "stdout",
     "output_type": "stream",
     "text": [
      "Wall time: 11.9 s\n"
     ]
    }
   ],
   "source": [
    "%time for _ in range(10): my_list2 = [x* 2 for x in my_list]"
   ]
  },
  {
   "cell_type": "markdown",
   "metadata": {},
   "source": [
    "### Exercício 3"
   ]
  },
  {
   "cell_type": "code",
   "execution_count": 4,
   "metadata": {},
   "outputs": [
    {
     "name": "stdout",
     "output_type": "stream",
     "text": [
      "[[ 0.54311818  2.55762255 -0.57575271]\n",
      " [ 0.85769735 -0.83060941 -0.53480623]\n",
      " [-0.50695915  0.60671476  2.48857636]\n",
      " [ 0.44599541  1.77904671  1.31654788]\n",
      " [ 1.02410182 -1.98719645 -0.34982489]]\n",
      "[[0.73696552 1.59925687        nan]\n",
      " [0.92611951        nan        nan]\n",
      " [       nan 0.77891897 1.57752222]\n",
      " [0.66782888 1.3338091  1.1474092 ]\n",
      " [1.01197916        nan        nan]]\n"
     ]
    },
    {
     "name": "stderr",
     "output_type": "stream",
     "text": [
      "C:\\Users\\aluno.laboratorio\\AppData\\Local\\Continuum\\anaconda3\\lib\\site-packages\\ipykernel_launcher.py:5: RuntimeWarning: invalid value encountered in sqrt\n",
      "  \"\"\"\n"
     ]
    }
   ],
   "source": [
    "#Crie uma matriz de cinco linhas e três colunas\n",
    "#Calcule a Raiz Quadrada dos elementos da matriz de uma única vez\n",
    "matriz = np.random.randn(5, 3)\n",
    "print(matriz)\n",
    "print(np.sqrt(matriz))"
   ]
  },
  {
   "cell_type": "markdown",
   "metadata": {},
   "source": [
    "### Exercício 4"
   ]
  },
  {
   "cell_type": "code",
   "execution_count": 5,
   "metadata": {},
   "outputs": [
    {
     "name": "stdout",
     "output_type": "stream",
     "text": [
      "matriz1 \n",
      "Formato (8, 5) Tipo float64 Nº de Dimensões 2\n",
      "matriz2 \n",
      "Formato (2, 4) Tipo float64 Nº de Dimensões 2\n",
      "matriz3 \n",
      "Formato (2, 4) Tipo |S3 Nº de Dimensões 2\n"
     ]
    }
   ],
   "source": [
    "#Crie as matrizes a seguir e verifique suas propriedades (formato, tipo e número de dimensões)\n",
    "import numpy as np\n",
    "matriz1 = np.random.rand(8, 5)\n",
    "print(\"matriz1 \\nFormato \" + str(matriz1.shape), \"Tipo \" + str(matriz1.dtype), \"Nº de Dimensões \" + str(matriz1.ndim))\n",
    "\n",
    "matriz2 = np.array([[7., 8, 9, 10.98], [65, 42, 3, 18]])\n",
    "print(\"matriz2 \\nFormato \" + str(matriz2.shape), \"Tipo \" + str(matriz2.dtype), \"Nº de Dimensões \" + str(matriz2.ndim))\n",
    "\n",
    "matriz3 = np.array([[1, \"2\", \"4.5\", 7], [4, \"18\", 14, \"3\"]], dtype=np.string_)\n",
    "print(\"matriz3 \\nFormato \" + str(matriz3.shape), \"Tipo \" + str(matriz3.dtype), \"Nº de Dimensões \" + str(matriz3.ndim))"
   ]
  },
  {
   "cell_type": "markdown",
   "metadata": {},
   "source": [
    "### Exercício 5"
   ]
  },
  {
   "cell_type": "code",
   "execution_count": 6,
   "metadata": {},
   "outputs": [
    {
     "name": "stdout",
     "output_type": "stream",
     "text": [
      "[[-0.24094334 -0.52877436  0.43893531 -0.86175908]\n",
      " [-0.23491262  1.09130086  0.95529578  0.3183988 ]\n",
      " [ 1.67003942  0.53521949  0.2310326   1.60069693]]\n",
      "[[0 0 0 0]\n",
      " [0 1 0 0]\n",
      " [1 0 0 1]]\n",
      "[[b'-0.24094334367597509' b'-0.5287743603154729' b'0.4389353058377898'\n",
      "  b'-0.8617590769357464']\n",
      " [b'-0.23491261870814903' b'1.091300857602473' b'0.9552957806407529'\n",
      "  b'0.31839879816410843']\n",
      " [b'1.6700394174131683' b'0.5352194912233513' b'0.23103259500997717'\n",
      "  b'1.6006969258048012']]\n"
     ]
    }
   ],
   "source": [
    "#Crie uma ndarray de 3x4 do tipo float e converta para:\n",
    "#(1) int\n",
    "#(2) string\n",
    "float_arr = np.random.randn(12).reshape(3, 4)\n",
    "print(float_arr)\n",
    "int_arr = float_arr.astype(np.int32)\n",
    "print(int_arr)\n",
    "str_arr = float_arr.astype(np.string_)\n",
    "print(str_arr)"
   ]
  },
  {
   "cell_type": "markdown",
   "metadata": {},
   "source": [
    "### Exercício 6"
   ]
  },
  {
   "cell_type": "code",
   "execution_count": 7,
   "metadata": {},
   "outputs": [
    {
     "name": "stdout",
     "output_type": "stream",
     "text": [
      "0.5636373557169412\n",
      "[ 1.44373207e+00  4.33682660e-01 -1.88245807e-01  3.06884990e-01\n",
      "  7.10528023e-01 -7.00546258e-01 -6.36555414e-01 -3.60775167e-01\n",
      " -8.44677362e-01  3.14214434e-01 -6.16486395e-01 -1.04837773e+00\n",
      " -2.63711158e-01  5.35682167e-01 -1.80086555e+00 -4.97155577e-01\n",
      " -1.37428749e+00  5.52588589e-01  1.28000000e+02  1.28000000e+02\n",
      "  1.28000000e+02  1.28000000e+02  1.28000000e+02  1.28000000e+02\n",
      "  1.28000000e+02  1.28000000e+02  1.28000000e+02  1.28000000e+02\n",
      "  1.28000000e+02  1.28000000e+02  1.28000000e+02  1.28000000e+02\n",
      " -1.37656051e+00  1.87526088e-01  1.54263653e+00  8.22998959e-01\n",
      " -1.56583344e+00  4.31440029e-01 -2.64843659e-01 -8.19117165e-01\n",
      " -4.99716835e-02  5.96227552e-02  2.63077888e-02  1.12287004e+00\n",
      " -8.09034751e-01 -4.86058582e-01  5.32285698e-01 -4.49596776e-01\n",
      "  2.12087366e-01 -8.32609696e-01 -1.27033050e-01  9.68651412e-01\n",
      " -1.20086238e+00  2.13880946e-01 -1.73848812e+00 -8.85489062e-01\n",
      "  1.55073581e+00  5.02775715e-01 -3.31010315e-02  4.27105537e-01\n",
      "  1.61128207e-01 -9.17395748e-01  1.34842195e+00  2.69330216e+00\n",
      "  3.42484321e-01 -6.26961751e-01 -2.02439272e+00  2.59645179e+00\n",
      "  1.12262829e-01  1.68810564e+00 -2.89903952e-01  9.36290644e-01\n",
      " -8.57855820e-01  2.10623311e-01 -8.88054039e-01  8.14860885e-01\n",
      "  8.74810976e-01 -6.84701910e-01 -8.54735364e-01  3.99810088e-01\n",
      " -2.66522415e-01  6.35028350e-01 -1.33980286e+00  2.27227712e+00\n",
      "  2.48035358e-01  1.02757098e+00 -9.83457204e-01  7.35514141e-01\n",
      " -5.33250638e-01 -1.93895322e-01 -1.72067754e+00  1.05648392e+00\n",
      "  2.25213985e+00  3.96827614e-01  9.17770750e-01 -1.48086097e+00\n",
      "  3.61272876e-01  1.42152333e+00  6.80666536e-01  4.51846229e-01]\n",
      "[128. 128. 128. 128. 128. 128. 128. 128. 128. 128. 128. 128. 128. 128.]\n",
      "[ 1.44373207e+00  4.33682660e-01 -1.88245807e-01  3.06884990e-01\n",
      "  7.10528023e-01 -7.00546258e-01 -6.36555414e-01 -3.60775167e-01\n",
      " -8.44677362e-01  3.14214434e-01 -6.16486395e-01 -1.04837773e+00\n",
      " -2.63711158e-01  5.35682167e-01 -1.80086555e+00 -4.97155577e-01\n",
      " -1.37428749e+00  5.52588589e-01  2.56000000e+02  2.56000000e+02\n",
      "  2.56000000e+02  2.56000000e+02  2.56000000e+02  2.56000000e+02\n",
      "  2.56000000e+02  2.56000000e+02  2.56000000e+02  2.56000000e+02\n",
      "  2.56000000e+02  2.56000000e+02  2.56000000e+02  2.56000000e+02\n",
      " -1.37656051e+00  1.87526088e-01  1.54263653e+00  8.22998959e-01\n",
      " -1.56583344e+00  4.31440029e-01 -2.64843659e-01 -8.19117165e-01\n",
      " -4.99716835e-02  5.96227552e-02  2.63077888e-02  1.12287004e+00\n",
      " -8.09034751e-01 -4.86058582e-01  5.32285698e-01 -4.49596776e-01\n",
      "  2.12087366e-01 -8.32609696e-01 -1.27033050e-01  9.68651412e-01\n",
      " -1.20086238e+00  2.13880946e-01 -1.73848812e+00 -8.85489062e-01\n",
      "  1.55073581e+00  5.02775715e-01 -3.31010315e-02  4.27105537e-01\n",
      "  1.61128207e-01 -9.17395748e-01  1.34842195e+00  2.69330216e+00\n",
      "  3.42484321e-01 -6.26961751e-01 -2.02439272e+00  2.59645179e+00\n",
      "  1.12262829e-01  1.68810564e+00 -2.89903952e-01  9.36290644e-01\n",
      " -8.57855820e-01  2.10623311e-01 -8.88054039e-01  8.14860885e-01\n",
      "  8.74810976e-01 -6.84701910e-01 -8.54735364e-01  3.99810088e-01\n",
      " -2.66522415e-01  6.35028350e-01 -1.33980286e+00  2.27227712e+00\n",
      "  2.48035358e-01  1.02757098e+00 -9.83457204e-01  7.35514141e-01\n",
      " -5.33250638e-01 -1.93895322e-01 -1.72067754e+00  1.05648392e+00\n",
      "  2.25213985e+00  3.96827614e-01  9.17770750e-01 -1.48086097e+00\n",
      "  3.61272876e-01  1.42152333e+00  6.80666536e-01  4.51846229e-01]\n",
      "[256. 256. 256. 256. 256. 256. 256. 256. 256. 256. 256. 256. 256. 256.]\n"
     ]
    }
   ],
   "source": [
    "#Crie um ndarray com 100 números aleatórios\n",
    "random_arr = np.random.randn(100)\n",
    "#Acesse o 32º elemento\n",
    "print(random_arr[31])\n",
    "#Altere os índices de 18 a 32 para 128\n",
    "random_arr[18:32] = 128\n",
    "#Copie o ndarray para um novo ndarray\n",
    "random_arr2 = random_arr.copy()\n",
    "#Exiba o primeiro ndarray\n",
    "print(random_arr)\n",
    "print(random_arr[18:32])\n",
    "#Altere o segundo ndarray modificando os índices de 18 a 32 para 256\n",
    "random_arr2[18:32] = 256\n",
    "#Exiba o segundo ndarray\n",
    "print(random_arr2)\n",
    "print(random_arr2[18:32])"
   ]
  },
  {
   "cell_type": "markdown",
   "metadata": {},
   "source": [
    "### Exercício 7"
   ]
  },
  {
   "cell_type": "code",
   "execution_count": 8,
   "metadata": {},
   "outputs": [
    {
     "name": "stdout",
     "output_type": "stream",
     "text": [
      "[5 6 7]\n",
      "[ 7 11 15]\n"
     ]
    }
   ],
   "source": [
    "#Crie a matriz abaixo\n",
    "arr2d = np.array([[1, 2, 3, 4], [5, 6, 7, 8], [9, 10, 11, 12], [13, 14, 15, 16]])\n",
    "#Selecione através dos índices os itens 5, 6 e 7\n",
    "print(arr2d[1,:-1])\n",
    "#Selecione através dos índices os itens 7, 11 e 15\n",
    "print(arr2d[1:,2])"
   ]
  },
  {
   "cell_type": "markdown",
   "metadata": {},
   "source": [
    "### Exercício 8"
   ]
  },
  {
   "cell_type": "code",
   "execution_count": 9,
   "metadata": {},
   "outputs": [
    {
     "name": "stdout",
     "output_type": "stream",
     "text": [
      "Dividas do Antônio:  [1000.  1640.    84.9]\n",
      "Dividas do José:  [18399.99]\n",
      "Dividas dos Outros:  [  500.       0.   42640.18    70.  ]\n",
      "Pessoas com dívidas:  ['Antônio' 'Carlos' 'Antônio' 'José' 'Alfredo' 'Alfredo' 'Antônio']\n",
      "Pessoas com dívidas maior que R$10.000,00:  ['José' 'Alfredo']\n",
      "Pessoas com dívidas entre R$1,00 e R$99,99:  ['Alfredo' 'Antônio']\n"
     ]
    }
   ],
   "source": [
    "#Crie uma lista com os nomes: Antônio, Carlos, Carlos, Antônio, José, Alfredo, Alfredo, Antônio\n",
    "nomes = np.array([\"Antônio\", \"Carlos\", \"Carlos\", \"Antônio\", \"José\", \"Alfredo\", \"Alfredo\", \"Antônio\"])\n",
    "\n",
    "#Crie uma lista chamada dívidas com os seguintes valores: 1000., 500., 0, 1640, 18399.99, 42640.18, 70., 84.90\n",
    "dividas = np.array([1000., 500., 0, 1640, 18399.99, 42640.18, 70., 84.90])\n",
    "\n",
    "#Busque na lista de nomes as ocorrências de Antônio e exiba suas dívidas\n",
    "condicao = nomes == \"Antônio\"\n",
    "print(\"Dividas do Antônio: \", dividas[condicao])\n",
    "\n",
    "#Busque na lista de nomes as ocorrências de José e exiba suas dívidas\n",
    "condicao = nomes == \"José\"\n",
    "print(\"Dividas do José: \", dividas[condicao])\n",
    "\n",
    "#Exiba as dívidas das pessoas diferente de Antônio e José\n",
    "condicao = (nomes != \"Antônio\") & (nomes != \"José\")\n",
    "print(\"Dividas dos Outros: \", dividas[condicao])\n",
    "\n",
    "#Exiba os nomes das pessoas que possuem dívidas igual a 0 (zero)\n",
    "condicao = dividas > 0\n",
    "print(\"Pessoas com dívidas: \", nomes[condicao])\n",
    "\n",
    "#Exiba os nomes das pessoas que possuem dívidas maior que 10000 (dez mil)\n",
    "condicao = dividas > 10000\n",
    "print(\"Pessoas com dívidas maior que R$10.000,00: \", nomes[condicao])\n",
    "\n",
    "#Exiba os nomes das pessoas que possuem dívidas menores que 100 (cem) e maior do que 0 (zero)\n",
    "condicao = (dividas < 100) & (dividas > 0)\n",
    "print(\"Pessoas com dívidas entre R$1,00 e R$99,99: \", nomes[condicao])"
   ]
  },
  {
   "cell_type": "markdown",
   "metadata": {},
   "source": [
    "### Exercício 9"
   ]
  },
  {
   "cell_type": "code",
   "execution_count": 10,
   "metadata": {},
   "outputs": [
    {
     "name": "stdout",
     "output_type": "stream",
     "text": [
      "['Alfredo' 'Alfredo' 'Antônio' 'Antônio' 'Antônio' 'Carlos' 'Carlos'\n",
      " 'José']\n",
      "[ 1000.     500.       0.    1640.   18399.99 42640.18    70.      84.9 ]\n",
      "[42640.18 18399.99  1640.    1000.     500.      84.9     70.       0.  ]\n"
     ]
    }
   ],
   "source": [
    "#Ordene e exiba a lista de nomes criado no execício anterior\n",
    "nomes.sort()\n",
    "print(nomes)\n",
    "\n",
    "#Ordene em ordem decrescente e exiba a lista de valores criado no execício anterior\n",
    "dividas_ord = -np.sort(-dividas)\n",
    "print(dividas)\n",
    "print(dividas_ord)"
   ]
  },
  {
   "cell_type": "markdown",
   "metadata": {},
   "source": [
    "### Exercício 10"
   ]
  },
  {
   "cell_type": "code",
   "execution_count": 11,
   "metadata": {},
   "outputs": [
    {
     "name": "stdout",
     "output_type": "stream",
     "text": [
      "['Alfredo' 'Antônio' 'Carlos' 'José']\n",
      "[    0.      70.      84.9    500.    1000.    1640.   18399.99 42640.18]\n"
     ]
    }
   ],
   "source": [
    "#Exiba os valores únicos das listas criadas no exercício 8\n",
    "print(np.unique(nomes))\n",
    "print(np.unique(dividas))"
   ]
  },
  {
   "cell_type": "markdown",
   "metadata": {},
   "source": [
    "## Extra"
   ]
  },
  {
   "cell_type": "code",
   "execution_count": 12,
   "metadata": {},
   "outputs": [
    {
     "ename": "OSError",
     "evalue": "https://archive.ics.uci.edu/ml/machine-learning-databases/iris/iris.data not found.",
     "output_type": "error",
     "traceback": [
      "\u001b[1;31m---------------------------------------------------------------------------\u001b[0m",
      "\u001b[1;31mOSError\u001b[0m                                   Traceback (most recent call last)",
      "\u001b[1;32m<ipython-input-12-f6836bb09e2a>\u001b[0m in \u001b[0;36m<module>\u001b[1;34m()\u001b[0m\n\u001b[0;32m      2\u001b[0m \u001b[1;31m#Recuperando a informação da Web\u001b[0m\u001b[1;33m\u001b[0m\u001b[1;33m\u001b[0m\u001b[1;33m\u001b[0m\u001b[0m\n\u001b[0;32m      3\u001b[0m \u001b[0murl\u001b[0m \u001b[1;33m=\u001b[0m \u001b[1;34m'https://archive.ics.uci.edu/ml/machine-learning-databases/iris/iris.data'\u001b[0m\u001b[1;33m\u001b[0m\u001b[1;33m\u001b[0m\u001b[0m\n\u001b[1;32m----> 4\u001b[1;33m \u001b[0miris\u001b[0m \u001b[1;33m=\u001b[0m \u001b[0mnp\u001b[0m\u001b[1;33m.\u001b[0m\u001b[0mgenfromtxt\u001b[0m\u001b[1;33m(\u001b[0m\u001b[0murl\u001b[0m\u001b[1;33m,\u001b[0m \u001b[0mdelimiter\u001b[0m\u001b[1;33m=\u001b[0m\u001b[1;34m','\u001b[0m\u001b[1;33m,\u001b[0m \u001b[0mdtype\u001b[0m\u001b[1;33m=\u001b[0m\u001b[1;34m'object'\u001b[0m\u001b[1;33m)\u001b[0m\u001b[1;33m\u001b[0m\u001b[1;33m\u001b[0m\u001b[0m\n\u001b[0m\u001b[0;32m      5\u001b[0m \u001b[1;33m\u001b[0m\u001b[0m\n\u001b[0;32m      6\u001b[0m \u001b[1;31m#Separando apenas a coluna do sépala\u001b[0m\u001b[1;33m\u001b[0m\u001b[1;33m\u001b[0m\u001b[1;33m\u001b[0m\u001b[0m\n",
      "\u001b[1;32m~\\AppData\\Local\\Continuum\\anaconda3\\lib\\site-packages\\numpy\\lib\\npyio.py\u001b[0m in \u001b[0;36mgenfromtxt\u001b[1;34m(fname, dtype, comments, delimiter, skip_header, skip_footer, converters, missing_values, filling_values, usecols, names, excludelist, deletechars, replace_space, autostrip, case_sensitive, defaultfmt, unpack, usemask, loose, invalid_raise, max_rows, encoding)\u001b[0m\n\u001b[0;32m   1687\u001b[0m             \u001b[0mfname\u001b[0m \u001b[1;33m=\u001b[0m \u001b[0mstr\u001b[0m\u001b[1;33m(\u001b[0m\u001b[0mfname\u001b[0m\u001b[1;33m)\u001b[0m\u001b[1;33m\u001b[0m\u001b[1;33m\u001b[0m\u001b[0m\n\u001b[0;32m   1688\u001b[0m         \u001b[1;32mif\u001b[0m \u001b[0misinstance\u001b[0m\u001b[1;33m(\u001b[0m\u001b[0mfname\u001b[0m\u001b[1;33m,\u001b[0m \u001b[0mbasestring\u001b[0m\u001b[1;33m)\u001b[0m\u001b[1;33m:\u001b[0m\u001b[1;33m\u001b[0m\u001b[1;33m\u001b[0m\u001b[0m\n\u001b[1;32m-> 1689\u001b[1;33m             \u001b[0mfhd\u001b[0m \u001b[1;33m=\u001b[0m \u001b[0miter\u001b[0m\u001b[1;33m(\u001b[0m\u001b[0mnp\u001b[0m\u001b[1;33m.\u001b[0m\u001b[0mlib\u001b[0m\u001b[1;33m.\u001b[0m\u001b[0m_datasource\u001b[0m\u001b[1;33m.\u001b[0m\u001b[0mopen\u001b[0m\u001b[1;33m(\u001b[0m\u001b[0mfname\u001b[0m\u001b[1;33m,\u001b[0m \u001b[1;34m'rt'\u001b[0m\u001b[1;33m,\u001b[0m \u001b[0mencoding\u001b[0m\u001b[1;33m=\u001b[0m\u001b[0mencoding\u001b[0m\u001b[1;33m)\u001b[0m\u001b[1;33m)\u001b[0m\u001b[1;33m\u001b[0m\u001b[1;33m\u001b[0m\u001b[0m\n\u001b[0m\u001b[0;32m   1690\u001b[0m             \u001b[0mown_fhd\u001b[0m \u001b[1;33m=\u001b[0m \u001b[1;32mTrue\u001b[0m\u001b[1;33m\u001b[0m\u001b[1;33m\u001b[0m\u001b[0m\n\u001b[0;32m   1691\u001b[0m         \u001b[1;32melse\u001b[0m\u001b[1;33m:\u001b[0m\u001b[1;33m\u001b[0m\u001b[1;33m\u001b[0m\u001b[0m\n",
      "\u001b[1;32m~\\AppData\\Local\\Continuum\\anaconda3\\lib\\site-packages\\numpy\\lib\\_datasource.py\u001b[0m in \u001b[0;36mopen\u001b[1;34m(path, mode, destpath, encoding, newline)\u001b[0m\n\u001b[0;32m    258\u001b[0m \u001b[1;33m\u001b[0m\u001b[0m\n\u001b[0;32m    259\u001b[0m     \u001b[0mds\u001b[0m \u001b[1;33m=\u001b[0m \u001b[0mDataSource\u001b[0m\u001b[1;33m(\u001b[0m\u001b[0mdestpath\u001b[0m\u001b[1;33m)\u001b[0m\u001b[1;33m\u001b[0m\u001b[1;33m\u001b[0m\u001b[0m\n\u001b[1;32m--> 260\u001b[1;33m     \u001b[1;32mreturn\u001b[0m \u001b[0mds\u001b[0m\u001b[1;33m.\u001b[0m\u001b[0mopen\u001b[0m\u001b[1;33m(\u001b[0m\u001b[0mpath\u001b[0m\u001b[1;33m,\u001b[0m \u001b[0mmode\u001b[0m\u001b[1;33m,\u001b[0m \u001b[0mencoding\u001b[0m\u001b[1;33m=\u001b[0m\u001b[0mencoding\u001b[0m\u001b[1;33m,\u001b[0m \u001b[0mnewline\u001b[0m\u001b[1;33m=\u001b[0m\u001b[0mnewline\u001b[0m\u001b[1;33m)\u001b[0m\u001b[1;33m\u001b[0m\u001b[1;33m\u001b[0m\u001b[0m\n\u001b[0m\u001b[0;32m    261\u001b[0m \u001b[1;33m\u001b[0m\u001b[0m\n\u001b[0;32m    262\u001b[0m \u001b[1;33m\u001b[0m\u001b[0m\n",
      "\u001b[1;32m~\\AppData\\Local\\Continuum\\anaconda3\\lib\\site-packages\\numpy\\lib\\_datasource.py\u001b[0m in \u001b[0;36mopen\u001b[1;34m(self, path, mode, encoding, newline)\u001b[0m\n\u001b[0;32m    614\u001b[0m                                       encoding=encoding, newline=newline)\n\u001b[0;32m    615\u001b[0m         \u001b[1;32melse\u001b[0m\u001b[1;33m:\u001b[0m\u001b[1;33m\u001b[0m\u001b[1;33m\u001b[0m\u001b[0m\n\u001b[1;32m--> 616\u001b[1;33m             \u001b[1;32mraise\u001b[0m \u001b[0mIOError\u001b[0m\u001b[1;33m(\u001b[0m\u001b[1;34m\"%s not found.\"\u001b[0m \u001b[1;33m%\u001b[0m \u001b[0mpath\u001b[0m\u001b[1;33m)\u001b[0m\u001b[1;33m\u001b[0m\u001b[1;33m\u001b[0m\u001b[0m\n\u001b[0m\u001b[0;32m    617\u001b[0m \u001b[1;33m\u001b[0m\u001b[0m\n\u001b[0;32m    618\u001b[0m \u001b[1;33m\u001b[0m\u001b[0m\n",
      "\u001b[1;31mOSError\u001b[0m: https://archive.ics.uci.edu/ml/machine-learning-databases/iris/iris.data not found."
     ]
    }
   ],
   "source": [
    "#Calculando a média, mediana e desvio padrão\n",
    "#Recuperando a informação da Web\n",
    "url = 'https://archive.ics.uci.edu/ml/machine-learning-databases/iris/iris.data'\n",
    "iris = np.genfromtxt(url, delimiter=',', dtype='object')\n",
    "\n",
    "#Separando apenas a coluna do sépala\n",
    "sepallength = np.genfromtxt(url, delimiter=',', dtype='float', usecols=[0])\n",
    "\n",
    "mu, med, sd = np.mean(sepallength), np.median(sepallength), np.std(sepallength)\n",
    "print(\"%.2f\" % mu, \"%.2f\" % med, \"%.2f\" % sd)"
   ]
  },
  {
   "cell_type": "code",
   "execution_count": null,
   "metadata": {},
   "outputs": [],
   "source": [
    "#Encontrando a correlação entre duas colunas\n",
    "#Recuperando todos os atributos da Iris\n",
    "iris = np.genfromtxt(url, delimiter=',', dtype='float', usecols=[0,1,2,3])\n",
    "np.corrcoef(iris[:, 0], iris[:, 2])[0, 1]"
   ]
  }
 ],
 "metadata": {
  "kernelspec": {
   "display_name": "Python 3",
   "language": "python",
   "name": "python3"
  },
  "language_info": {
   "codemirror_mode": {
    "name": "ipython",
    "version": 3
   },
   "file_extension": ".py",
   "mimetype": "text/x-python",
   "name": "python",
   "nbconvert_exporter": "python",
   "pygments_lexer": "ipython3",
   "version": "3.6.9"
  }
 },
 "nbformat": 4,
 "nbformat_minor": 2
}
